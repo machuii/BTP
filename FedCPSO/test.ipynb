{
 "cells": [
  {
   "cell_type": "code",
   "execution_count": 1,
   "metadata": {},
   "outputs": [
    {
     "name": "stderr",
     "output_type": "stream",
     "text": [
      "d:\\work\\BTP\\venv\\Lib\\site-packages\\tqdm\\auto.py:21: TqdmWarning: IProgress not found. Please update jupyter and ipywidgets. See https://ipywidgets.readthedocs.io/en/stable/user_install.html\n",
      "  from .autonotebook import tqdm as notebook_tqdm\n",
      "2025-04-23 12:11:35,727\tINFO util.py:154 -- Missing packages: ['ipywidgets']. Run `pip install -U ipywidgets`, then restart the notebook server for rich notebook output.\n"
     ]
    }
   ],
   "source": [
    "import numpy as np\n",
    "import torch\n",
    "import torch.nn as nn\n",
    "import torch.nn.functional as F\n",
    "import torchvision.datasets as datasets\n",
    "import torchvision.transforms as transforms\n",
    "from torch.nn.utils import prune\n",
    "from collections import OrderedDict\n",
    "import os\n",
    "import flwr\n",
    "from flwr.common import (parameters_to_ndarrays, ndarrays_to_parameters)\n",
    "import random"
   ]
  },
  {
   "cell_type": "code",
   "execution_count": 2,
   "metadata": {},
   "outputs": [],
   "source": [
    "device = torch.device(\"cpu\")\n"
   ]
  },
  {
   "cell_type": "markdown",
   "metadata": {},
   "source": [
    "CIFAR10"
   ]
  },
  {
   "cell_type": "code",
   "execution_count": 151,
   "metadata": {},
   "outputs": [],
   "source": [
    "transform = transforms.Compose([transforms.ToTensor(), transforms.Normalize((0.5,0.5,0.5), (0.5,0.5,0.5))])\n",
    "cifar_trainset = datasets.CIFAR10(root='./data', train=True, download=True, transform=transform)\n",
    "train_loader = torch.utils.data.DataLoader(cifar_trainset, batch_size=10, shuffle=True)\n",
    "cifar_testset = datasets.CIFAR10(root='./data', train=False, download=True, transform=transform)\n",
    "test_loader = torch.utils.data.DataLoader(cifar_testset, batch_size=10, shuffle=False)"
   ]
  },
  {
   "cell_type": "markdown",
   "metadata": {},
   "source": [
    "MNIST"
   ]
  },
  {
   "cell_type": "code",
   "execution_count": 3,
   "metadata": {},
   "outputs": [],
   "source": [
    "transform = transforms.Compose([transforms.ToTensor(), transforms.Normalize((0.1307,), (0.3081,))])\n",
    "mnist_trainset = datasets.MNIST(root='./data', train=True, download=True, transform=transform)\n",
    "train_loader = torch.utils.data.DataLoader(mnist_trainset, batch_size=10, shuffle=True)\n",
    "mnist_testset = datasets.MNIST(root='./data', train=False, download=True, transform=transform)\n",
    "test_loader = torch.utils.data.DataLoader(mnist_testset, batch_size=10, shuffle=True)\n"
   ]
  },
  {
   "cell_type": "code",
   "execution_count": 152,
   "metadata": {},
   "outputs": [],
   "source": [
    "class Net(nn.Module):\n",
    "    def __init__(self) -> None:\n",
    "        super(Net, self).__init__()\n",
    "        self.conv1 = nn.Conv2d(3, 6, 5)\n",
    "        self.pool = nn.MaxPool2d(2, 2)\n",
    "        self.conv2 = nn.Conv2d(6, 16, 5)\n",
    "        self.fc1 = nn.Linear(16 * 5 * 5, 120)\n",
    "        self.fc2 = nn.Linear(120, 84)\n",
    "        self.fc3 = nn.Linear(84, 10)\n",
    "\n",
    "    def forward(self, x: torch.Tensor) -> torch.Tensor:\n",
    "        x = self.pool(F.relu(self.conv1(x)))\n",
    "        x = self.pool(F.relu(self.conv2(x)))\n",
    "        x = x.view(-1, 16 * 5 * 5)\n",
    "        x = F.relu(self.fc1(x))\n",
    "        x = F.relu(self.fc2(x))\n",
    "        x = self.fc3(x)\n",
    "        return x"
   ]
  },
  {
   "cell_type": "code",
   "execution_count": 153,
   "metadata": {},
   "outputs": [],
   "source": [
    "class QuantizedNet(nn.Module):\n",
    "    def __init__(self) -> None:\n",
    "        super(QuantizedNet, self).__init__()\n",
    "        self.quant = torch.quantization.QuantStub()\n",
    "        self.conv1 = nn.Conv2d(3, 6, 5)\n",
    "        self.pool = nn.MaxPool2d(2, 2)\n",
    "        self.conv2 = nn.Conv2d(6, 16, 5)\n",
    "        self.fc1 = nn.Linear(16 * 5 * 5, 120)\n",
    "        self.fc2 = nn.Linear(120, 84)\n",
    "        self.fc3 = nn.Linear(84, 10)\n",
    "        self.dequant = torch.quantization.DeQuantStub()\n",
    "\n",
    "    def forward(self, x: torch.Tensor) -> torch.Tensor:\n",
    "        x = self.quant(x)\n",
    "        x = self.pool(F.relu(self.conv1(x)))\n",
    "        x = self.pool(F.relu(self.conv2(x)))\n",
    "        x = x.view(-1, 16 * 5 * 5)\n",
    "        x = F.relu(self.fc1(x))\n",
    "        x = F.relu(self.fc2(x))\n",
    "        x = self.fc3(x)\n",
    "        x = self.dequant(x)\n",
    "        return x"
   ]
  },
  {
   "cell_type": "code",
   "execution_count": 10,
   "metadata": {},
   "outputs": [],
   "source": [
    "class MNISTNet(nn.Module):\n",
    "    def __init__(self) -> None:\n",
    "        super(MNISTNet, self).__init__()\n",
    "        self.conv1 = nn.Conv2d(1, 6, 5)\n",
    "        self.pool = nn.MaxPool2d(2, 2)\n",
    "        self.conv2 = nn.Conv2d(6, 16, 5)\n",
    "        self.fc1 = nn.Linear(16 * 4 * 4, 120)\n",
    "        self.fc2 = nn.Linear(120, 84)\n",
    "        self.fc3 = nn.Linear(84, 10)\n",
    "\n",
    "    def forward(self, x: torch.Tensor) -> torch.Tensor:\n",
    "        x = self.pool(F.relu(self.conv1(x)))\n",
    "        x = self.pool(F.relu(self.conv2(x)))\n",
    "        x = x.view(-1, 16 * 4 * 4)\n",
    "        x = F.relu(self.fc1(x))\n",
    "        x = F.relu(self.fc2(x))\n",
    "        x = self.fc3(x)\n",
    "        return x\n"
   ]
  },
  {
   "cell_type": "code",
   "execution_count": 136,
   "metadata": {},
   "outputs": [],
   "source": [
    "def set_parameters(net, parameters):\n",
    "    params_dict = zip(net.state_dict().keys(), parameters)\n",
    "    state_dict = OrderedDict({k: torch.Tensor(v) for k, v in params_dict})\n",
    "    net.load_state_dict(state_dict, strict=True)"
   ]
  },
  {
   "cell_type": "code",
   "execution_count": 137,
   "metadata": {},
   "outputs": [],
   "source": [
    "def get_parameters(net):\n",
    "    return [val.cpu().numpy() for _, val in net.state_dict().items()]"
   ]
  },
  {
   "cell_type": "code",
   "execution_count": 138,
   "metadata": {},
   "outputs": [],
   "source": [
    "def get_quantized_parameters(net):\n",
    "    parameters = []\n",
    "    \n",
    "    for name,module in net.named_modules():\n",
    "        if isinstance(module, torch.nn.quantized.Linear) or isinstance(module, torch.nn.quantized.Conv2d):\n",
    "            parameters.append(module.weight().int_repr().cpu().numpy())\n",
    "            parameters.append(module.bias().detach().cpu().numpy())\n",
    "            \n",
    "       \n",
    "    return parameters  # Convert to NumPy array"
   ]
  },
  {
   "cell_type": "code",
   "execution_count": 5,
   "metadata": {},
   "outputs": [],
   "source": [
    "def train(net, trainloader, epochs: int):\n",
    "    \"\"\"Train the network on the training set.\"\"\"\n",
    "    criterion = torch.nn.CrossEntropyLoss()\n",
    "    optimizer = torch.optim.Adam(net.parameters())\n",
    "    net.train()\n",
    "    for epoch in range(epochs):\n",
    "        correct, total, epoch_loss = 0, 0, 0.0\n",
    "        for batch in trainloader:\n",
    "            images, labels = batch\n",
    "            images, labels = images.to(device), labels.to(device)\n",
    "            optimizer.zero_grad()\n",
    "            outputs = net(images)\n",
    "            loss = criterion(outputs, labels)\n",
    "            loss.backward()\n",
    "            optimizer.step()\n",
    "            # metrics\n",
    "            epoch_loss += loss.item()\n",
    "            total += labels.size(0)\n",
    "            correct += (torch.max(outputs.data, 1)[1] == labels).sum().item()\n",
    "        epoch_loss /= len(trainloader.dataset)\n",
    "        epoch_acc = correct / total\n",
    "        print(f\"Epoch {epoch + 1}: loss={epoch_loss:.4f}, acc={epoch_acc:.4f}\")"
   ]
  },
  {
   "cell_type": "code",
   "execution_count": 6,
   "metadata": {},
   "outputs": [],
   "source": [
    "def test(net, testloader):\n",
    "    \"\"\"Evaluate the network on the entire test set.\"\"\"\n",
    "    correct, total = 0, 0\n",
    "    net.eval()\n",
    "    with torch.no_grad():\n",
    "        for batch in testloader:\n",
    "            images, labels = batch\n",
    "            images, labels = images.to(device), labels.to(device)\n",
    "            outputs = net(images)\n",
    "            _, predicted = torch.max(outputs, 1)\n",
    "            total += labels.size(0)\n",
    "            correct += (predicted == labels).sum().item()\n",
    "    accuracy = correct / total\n",
    "    return accuracy"
   ]
  },
  {
   "cell_type": "code",
   "execution_count": 12,
   "metadata": {},
   "outputs": [
    {
     "name": "stdout",
     "output_type": "stream",
     "text": [
      "Epoch 1: loss=0.0141, acc=0.9554\n",
      "Epoch 2: loss=0.0059, acc=0.9819\n",
      "Epoch 3: loss=0.0044, acc=0.9867\n",
      "Epoch 4: loss=0.0037, acc=0.9888\n",
      "Epoch 5: loss=0.0033, acc=0.9906\n",
      "Accuracy: 0.9883\n"
     ]
    }
   ],
   "source": [
    "model = MNISTNet()\n",
    "train(model, train_loader, 5)\n",
    "accuracy = test(model, test_loader)\n",
    "print(f\"Accuracy: {accuracy}\")"
   ]
  },
  {
   "cell_type": "code",
   "execution_count": 170,
   "metadata": {},
   "outputs": [],
   "source": [
    "model = Net()"
   ]
  },
  {
   "cell_type": "code",
   "execution_count": 171,
   "metadata": {},
   "outputs": [
    {
     "name": "stdout",
     "output_type": "stream",
     "text": [
      "Epoch 1: loss=0.1547, acc=0.4326\n"
     ]
    }
   ],
   "source": [
    "train(model, train_loader, 1)\n",
    "accuracy = test(model, test_loader)"
   ]
  },
  {
   "cell_type": "code",
   "execution_count": 176,
   "metadata": {},
   "outputs": [
    {
     "name": "stdout",
     "output_type": "stream",
     "text": [
      "76934 bytes\n"
     ]
    },
    {
     "data": {
      "text/plain": [
       "Net(\n",
       "  (conv1): Conv2d(3, 6, kernel_size=(5, 5), stride=(1, 1))\n",
       "  (pool): MaxPool2d(kernel_size=2, stride=2, padding=0, dilation=1, ceil_mode=False)\n",
       "  (conv2): Conv2d(6, 16, kernel_size=(5, 5), stride=(1, 1))\n",
       "  (fc1): DynamicQuantizedLinear(in_features=400, out_features=120, dtype=torch.qint8, qscheme=torch.per_tensor_affine)\n",
       "  (fc2): DynamicQuantizedLinear(in_features=120, out_features=84, dtype=torch.qint8, qscheme=torch.per_tensor_affine)\n",
       "  (fc3): DynamicQuantizedLinear(in_features=84, out_features=10, dtype=torch.qint8, qscheme=torch.per_tensor_affine)\n",
       ")"
      ]
     },
     "execution_count": 176,
     "metadata": {},
     "output_type": "execute_result"
    }
   ],
   "source": [
    "quantized_model = torch.ao.quantization.quantize_dynamic(model, {torch.nn.Linear, torch.nn.Conv2d}, dtype=torch.qint8)\n",
    "torch.save(quantized_model.state_dict(), \"quantized_model.pth\")\n",
    "print(f\"{os.path.getsize('quantized_model.pth')} bytes\")\n",
    "quantized_model"
   ]
  },
  {
   "cell_type": "code",
   "execution_count": 177,
   "metadata": {},
   "outputs": [
    {
     "data": {
      "text/plain": [
       "Net(\n",
       "  (conv1): Conv2d(3, 6, kernel_size=(5, 5), stride=(1, 1))\n",
       "  (pool): MaxPool2d(kernel_size=2, stride=2, padding=0, dilation=1, ceil_mode=False)\n",
       "  (conv2): Conv2d(6, 16, kernel_size=(5, 5), stride=(1, 1))\n",
       "  (fc1): DynamicQuantizedLinear(in_features=400, out_features=120, dtype=torch.qint8, qscheme=torch.per_tensor_affine)\n",
       "  (fc2): DynamicQuantizedLinear(in_features=120, out_features=84, dtype=torch.qint8, qscheme=torch.per_tensor_affine)\n",
       "  (fc3): DynamicQuantizedLinear(in_features=84, out_features=10, dtype=torch.qint8, qscheme=torch.per_tensor_affine)\n",
       ")"
      ]
     },
     "execution_count": 177,
     "metadata": {},
     "output_type": "execute_result"
    }
   ],
   "source": [
    "new = Net()\n",
    "torch.ao.quantization.quantize_dynamic(new, {torch.nn.Linear, torch.nn.Conv2d}, dtype=torch.qint8,inplace=True)\n",
    "new.load_state_dict(torch.load(\"quantized_model.pth\"))\n",
    "new\n"
   ]
  },
  {
   "cell_type": "code",
   "execution_count": 178,
   "metadata": {},
   "outputs": [
    {
     "data": {
      "text/plain": [
       "0.5171"
      ]
     },
     "execution_count": 178,
     "metadata": {},
     "output_type": "execute_result"
    }
   ],
   "source": [
    "test(new, test_loader)"
   ]
  },
  {
   "cell_type": "code",
   "execution_count": 4,
   "metadata": {},
   "outputs": [],
   "source": [
    "class NewNet(nn.Module):\n",
    "    def __init__(self) -> None:\n",
    "        super(NewNet, self).__init__()\n",
    "        self.conv1 = nn.Conv2d(3, 6, 5)\n",
    "\n",
    "    def forward(self, x: torch.Tensor) -> torch.Tensor:\n",
    "        x = self.pool(F.relu(self.conv1(x)))\n",
    "        return x"
   ]
  },
  {
   "cell_type": "code",
   "execution_count": 20,
   "metadata": {},
   "outputs": [],
   "source": [
    "def get_parameters(model):\n",
    "    return [val.cpu().numpy() for _, val in model.state_dict().items()]\n",
    "\n",
    "model = NewNet()\n",
    "\n",
    "client_best_model = NewNet()\n",
    "\n",
    "global_model = NewNet()\n",
    "\n",
    "parameters = get_parameters(model)\n",
    "client_best_parameters = get_parameters(client_best_model)\n",
    "global_best_parameters = get_parameters(global_model)\n",
    "\n",
    "new_weights = [np.zeros_like(param) for param in parameters]\n",
    "\n",
    "#initialize random velocities\n",
    "velocities  = [np.random.randn(*param.shape) for param in parameters]\n",
    "\n",
    "\n",
    "acce = 0.5\n",
    "local_acce = 0.1\n",
    "global_acce = 0.8\n",
    "\n",
    "\n",
    "local_rand = random.random()\n",
    "global_rand = random.random()\n"
   ]
  },
  {
   "cell_type": "code",
   "execution_count": null,
   "metadata": {},
   "outputs": [],
   "source": []
  },
  {
   "cell_type": "code",
   "execution_count": 23,
   "metadata": {},
   "outputs": [],
   "source": [
    "for index, layer in enumerate(parameters):\n",
    "            new_v = acce * velocities[index]\n",
    "            new_v = new_v + local_rand * (\n",
    "                local_acce * (parameters[index] - layer)\n",
    "            )\n",
    "            new_v = new_v + global_rand * (\n",
    "                global_acce * (parameters[index] - layer)\n",
    "            )\n",
    "            velocities[index] = new_v\n",
    "            new_weights[index] = layer + new_v"
   ]
  },
  {
   "cell_type": "code",
   "execution_count": 24,
   "metadata": {},
   "outputs": [
    {
     "name": "stdout",
     "output_type": "stream",
     "text": [
      "[array([[[[ 1.58110960e-01, -1.36841484e-01, -2.03821671e-01,\n",
      "           1.91435746e-01, -1.18587001e-01],\n",
      "         [-3.17251974e-01,  1.06113780e-01,  7.12124619e-02,\n",
      "           1.23821711e-01, -2.82686346e-02],\n",
      "         [-4.46684335e-01,  4.93491419e-01, -7.84243425e-02,\n",
      "           2.73953568e-03,  3.85461792e-02],\n",
      "         [ 4.20288735e-01,  2.94961123e-01, -3.74785165e-01,\n",
      "          -9.74252692e-02, -2.47984714e-01],\n",
      "         [ 1.08908471e-01,  4.82272933e-02,  4.56860668e-01,\n",
      "           2.37687287e-03, -5.28230447e-02]],\n",
      "\n",
      "        [[-3.13417795e-02,  4.22408000e-01, -1.94079121e-01,\n",
      "           3.96784878e-01, -5.05784606e-02],\n",
      "         [-1.33926856e-02, -1.36040024e-01, -3.99612904e-01,\n",
      "           8.35785474e-02,  8.08051539e-02],\n",
      "         [ 6.54409501e-01,  2.93302596e-01, -1.30874235e-01,\n",
      "           4.40740694e-01, -1.69665701e-01],\n",
      "         [ 1.55980588e-01,  1.31837077e-02,  3.67427699e-01,\n",
      "          -1.15473251e-01, -4.18081914e-01],\n",
      "         [-5.72149088e-01,  1.37654825e-01, -2.16820193e-01,\n",
      "          -1.23183258e-01, -5.22665680e-02]],\n",
      "\n",
      "        [[-1.15950484e-01,  3.81125783e-01, -1.06164047e-01,\n",
      "           5.22951018e-01,  9.61306940e-02],\n",
      "         [-9.51685674e-03, -1.66005607e-03,  1.55567402e-01,\n",
      "          -1.82779835e-01,  2.13910998e-01],\n",
      "         [-2.14902954e-01,  2.06219199e-01, -1.76042960e-02,\n",
      "          -7.89757507e-02,  1.94558391e-01],\n",
      "         [-2.53735823e-02,  4.62362392e-02,  1.32404744e-01,\n",
      "           7.25323234e-02, -6.81023063e-02],\n",
      "         [-1.23720748e-01, -5.20536901e-02,  7.29660976e-02,\n",
      "          -1.30302950e-01,  1.45746904e-01]]],\n",
      "\n",
      "\n",
      "       [[[-3.14257463e-01,  4.18853328e-01, -3.17761324e-01,\n",
      "           4.79903854e-01,  1.05625070e-02],\n",
      "         [ 1.03183498e-01, -9.69903424e-02,  2.47257321e-01,\n",
      "          -3.95609903e-02,  6.69861132e-01],\n",
      "         [ 1.51682562e-01, -4.16169258e-01, -2.62601484e-01,\n",
      "           2.55838087e-03, -1.64142527e-01],\n",
      "         [-2.16436976e-01, -1.17140973e-01,  1.46739882e-01,\n",
      "          -3.79957467e-01,  1.21217040e-01],\n",
      "         [ 3.74484322e-01,  3.55589341e-01, -8.28759616e-02,\n",
      "           8.91472257e-02, -8.08322301e-02]],\n",
      "\n",
      "        [[ 1.31079028e-01,  1.96611759e-01,  2.24672675e-01,\n",
      "          -2.21887895e-01, -1.51054869e-01],\n",
      "         [ 3.47220993e-01,  7.20055037e-02,  1.01554809e-01,\n",
      "          -2.66545911e-01,  2.08133023e-01],\n",
      "         [ 5.97289996e-02,  2.47681778e-02,  9.17989670e-02,\n",
      "          -2.14833484e-01,  1.32372239e-01],\n",
      "         [ 1.52085394e-01, -2.68002513e-01,  4.11223267e-01,\n",
      "          -4.51380611e-01, -5.83985422e-02],\n",
      "         [ 3.19536411e-01, -3.12075670e-01,  1.37371905e-01,\n",
      "           1.88230308e-01,  1.72093324e-01]],\n",
      "\n",
      "        [[-1.01085930e-02, -2.08430851e-01, -3.52207364e-02,\n",
      "          -2.55972604e-01, -3.53858872e-01],\n",
      "         [-2.73608290e-01,  6.46264394e-02,  2.39077297e-02,\n",
      "           2.19271206e-01,  1.50939194e-01],\n",
      "         [ 2.38165468e-01, -2.58005518e-01,  1.42327958e-01,\n",
      "           7.50410784e-04, -4.46677376e-01],\n",
      "         [-4.66102026e-02,  1.30768234e-01,  1.08216735e-01,\n",
      "          -2.25367213e-01, -1.25665343e-01],\n",
      "         [-1.04801197e-01,  2.18213408e-01, -9.70562704e-02,\n",
      "          -1.55874986e-01,  8.90714602e-02]]],\n",
      "\n",
      "\n",
      "       [[[ 1.69116227e-01, -8.40386074e-02, -1.89880123e-01,\n",
      "          -3.07139463e-01,  4.32735413e-01],\n",
      "         [ 3.24030609e-01, -3.50996354e-01,  1.27011540e-01,\n",
      "          -3.48925345e-01,  3.01973661e-01],\n",
      "         [ 2.66386943e-01,  2.60637545e-01,  3.31176448e-01,\n",
      "           1.81651953e-01,  2.77518186e-01],\n",
      "         [-6.89813323e-03,  2.33416350e-01,  1.21420753e-01,\n",
      "          -4.11482085e-01, -9.89230958e-02],\n",
      "         [-1.36284566e-02, -1.05757866e-01, -2.55510768e-01,\n",
      "          -1.14761103e-01,  1.19528587e-01]],\n",
      "\n",
      "        [[ 1.55959375e-02,  2.47620406e-01,  2.60600409e-01,\n",
      "          -5.25166364e-01, -4.38732945e-02],\n",
      "         [ 3.96542782e-01, -1.34050240e-01, -2.86281459e-02,\n",
      "          -3.14227129e-01,  1.11962377e-01],\n",
      "         [-4.43860879e-02, -2.22145122e-01,  4.05154881e-01,\n",
      "          -2.32486391e-01, -2.95280042e-01],\n",
      "         [ 6.37700823e-02,  2.47052211e-01, -2.82722934e-02,\n",
      "          -2.21195885e-01, -4.73049030e-01],\n",
      "         [ 1.60102724e-01,  6.48489368e-02, -3.70761180e-01,\n",
      "          -3.78806453e-01,  8.04246295e-02]],\n",
      "\n",
      "        [[ 6.67775363e-02, -2.87873683e-02,  4.52220292e-01,\n",
      "          -2.41051134e-01, -1.77867430e-01],\n",
      "         [ 4.28277636e-01, -4.73517197e-01,  2.50579791e-01,\n",
      "           4.82223225e-01,  3.26024364e-01],\n",
      "         [ 5.42929942e-01, -3.32289833e-02, -1.82445184e-01,\n",
      "          -1.11394089e-01,  8.36807197e-02],\n",
      "         [ 9.45069622e-02, -2.08360593e-01, -1.55655973e-01,\n",
      "           6.36116918e-01, -1.95304653e-02],\n",
      "         [-2.92828325e-01,  1.30069306e-01,  2.15637882e-02,\n",
      "           1.97260403e-01, -7.41520588e-02]]],\n",
      "\n",
      "\n",
      "       [[[ 8.61888502e-02, -9.05719557e-02,  2.05706286e-01,\n",
      "          -7.09720211e-02, -2.76574746e-01],\n",
      "         [-7.55821965e-02,  4.08793170e-01,  9.27466950e-02,\n",
      "          -3.51112207e-02,  8.90461687e-02],\n",
      "         [ 1.93890271e-01,  4.98290087e-01,  1.43300556e-01,\n",
      "           2.44639961e-02,  7.65061736e-02],\n",
      "         [ 8.10789414e-02, -3.84881769e-02, -1.04883791e-01,\n",
      "          -1.10749125e-01, -5.60435290e-02],\n",
      "         [ 4.15455992e-02,  2.38877296e-01,  1.69657154e-01,\n",
      "          -7.16609895e-02, -2.28003018e-01]],\n",
      "\n",
      "        [[-5.79916529e-01, -1.50355522e-01, -1.85363459e-01,\n",
      "          -3.14552507e-01, -2.42137024e-01],\n",
      "         [ 6.69979734e-02,  1.68392176e-02, -6.95094435e-02,\n",
      "           2.48809169e-03,  5.15243723e-02],\n",
      "         [-1.53317371e-01,  8.71559162e-02, -1.11700528e-02,\n",
      "          -6.06574447e-02,  1.14418853e-02],\n",
      "         [-1.26456042e-01,  3.85154328e-03,  1.30156536e-01,\n",
      "          -3.99258413e-01,  1.64001586e-02],\n",
      "         [ 2.53666113e-01, -3.53804264e-02, -1.65790607e-01,\n",
      "          -2.66602843e-01, -5.57434825e-01]],\n",
      "\n",
      "        [[-3.25025878e-02, -9.76012464e-02, -2.68423099e-01,\n",
      "          -1.25582837e-01,  1.16859755e-01],\n",
      "         [-8.67288331e-02,  1.76188109e-01, -2.63177035e-01,\n",
      "          -1.29342782e-01, -1.35759700e-01],\n",
      "         [-4.47022340e-01,  1.84730881e-01,  1.20401236e-02,\n",
      "          -1.26072058e-01,  1.74188526e-01],\n",
      "         [ 2.89415098e-01, -3.63452572e-01, -2.61402989e-01,\n",
      "          -4.66043249e-01,  1.02700337e-01],\n",
      "         [ 2.26795962e-01, -8.72694049e-03, -6.99522886e-02,\n",
      "           4.09018772e-01,  1.18735039e-01]]],\n",
      "\n",
      "\n",
      "       [[[ 2.92583367e-01,  7.42691651e-03, -4.08611495e-02,\n",
      "          -5.01908961e-01, -1.04930456e-01],\n",
      "         [ 4.80934911e-02,  9.03674582e-02, -1.25868001e-01,\n",
      "           4.12639955e-02,  1.31806706e-01],\n",
      "         [ 2.52785362e-01,  2.03407275e-02, -2.91880470e-04,\n",
      "          -1.63173682e-01,  1.63043090e-01],\n",
      "         [-4.75363076e-01,  3.89484974e-01, -3.63284802e-01,\n",
      "           6.09827728e-01,  3.47335972e-01],\n",
      "         [ 2.34110359e-01,  5.59189993e-02, -7.90882174e-02,\n",
      "          -3.07215688e-01,  5.65056820e-01]],\n",
      "\n",
      "        [[-1.64537555e-01, -9.83363204e-02,  1.32124540e-01,\n",
      "          -2.62843898e-01,  3.08969228e-01],\n",
      "         [-1.46370344e-01, -6.75194145e-01,  1.80105714e-01,\n",
      "           1.63545459e-01, -2.77527205e-01],\n",
      "         [ 5.78461118e-02, -3.10965193e-01, -2.89639264e-02,\n",
      "           1.70136823e-01,  2.16299980e-02],\n",
      "         [-3.21508099e-01, -3.99138528e-01,  4.44974275e-02,\n",
      "           6.06402429e-02, -4.51750053e-02],\n",
      "         [-5.55493515e-01, -4.87502675e-02, -3.00329359e-01,\n",
      "          -3.31238983e-01,  2.54989552e-02]],\n",
      "\n",
      "        [[-1.33647131e-01, -6.00483523e-02,  2.26451016e-01,\n",
      "          -6.61987011e-01,  2.62505701e-01],\n",
      "         [-1.70325436e-01, -3.80531787e-01, -2.12445796e-02,\n",
      "          -3.97488648e-01,  1.38239898e-01],\n",
      "         [ 4.94460517e-01, -1.70866094e-01, -1.73810203e-02,\n",
      "          -2.68914569e-01, -4.44132849e-01],\n",
      "         [ 1.63338561e-01, -3.54422399e-03, -1.52020321e-01,\n",
      "          -1.17997713e-01, -5.56168987e-01],\n",
      "         [-2.90769960e-01,  3.94187047e-01, -2.50049311e-01,\n",
      "           5.51917190e-02, -3.08347323e-01]]],\n",
      "\n",
      "\n",
      "       [[[-1.89395754e-01,  2.51799184e-01,  3.86205637e-02,\n",
      "           2.29530495e-01, -2.14819128e-02],\n",
      "         [-3.64622905e-02,  4.47601419e-01, -4.25914861e-01,\n",
      "           1.06189354e-01,  1.10216424e-01],\n",
      "         [ 1.93326260e-02,  3.04259929e-01,  8.65182770e-02,\n",
      "          -1.06682788e-01,  4.98330161e-01],\n",
      "         [ 2.23407544e-01, -2.97072544e-01, -5.64684384e-03,\n",
      "           1.29581070e-01, -2.38837852e-01],\n",
      "         [ 4.03100421e-01,  1.71371216e-02,  1.04710268e-01,\n",
      "          -8.04687195e-02, -2.74277871e-01]],\n",
      "\n",
      "        [[-1.72067325e-01,  3.66829023e-01,  2.59248494e-01,\n",
      "           2.93325957e-01,  9.06506680e-02],\n",
      "         [-5.85624508e-02, -2.82259773e-02,  4.94488056e-02,\n",
      "           2.40586520e-01,  8.57424797e-02],\n",
      "         [-3.10807040e-01,  3.16538267e-01,  1.12110557e-01,\n",
      "           4.31538231e-02, -3.75191207e-02],\n",
      "         [ 1.00502117e-02,  5.36009175e-03,  5.78144561e-02,\n",
      "           1.10288605e-01, -1.31614334e-01],\n",
      "         [ 2.99561674e-01, -2.28324548e-01,  1.43368139e-01,\n",
      "           1.64212348e-01,  2.56388533e-01]],\n",
      "\n",
      "        [[ 3.90500324e-01,  2.94645434e-02, -1.51845009e-01,\n",
      "          -1.30469080e-02, -1.55034132e-01],\n",
      "         [ 1.82901114e-02, -3.93078895e-01,  1.78428785e-01,\n",
      "          -5.99825562e-02, -4.11454115e-02],\n",
      "         [-1.62108680e-01,  4.81018443e-03, -2.03498150e-01,\n",
      "           3.77959350e-01,  5.25057766e-02],\n",
      "         [ 1.92801461e-01, -2.91807039e-01, -8.91927405e-01,\n",
      "           6.81133296e-02, -4.17664214e-01],\n",
      "         [ 2.25709334e-01,  3.23030519e-02, -4.17503965e-01,\n",
      "          -5.15685420e-01,  1.04088189e-01]]]]), array([-0.07646983, -0.15256008, -0.05469551, -0.10845308,  0.31039208,\n",
      "       -0.23562112])]\n"
     ]
    }
   ],
   "source": [
    "print(velocities)"
   ]
  }
 ],
 "metadata": {
  "kernelspec": {
   "display_name": "venv",
   "language": "python",
   "name": "python3"
  },
  "language_info": {
   "codemirror_mode": {
    "name": "ipython",
    "version": 3
   },
   "file_extension": ".py",
   "mimetype": "text/x-python",
   "name": "python",
   "nbconvert_exporter": "python",
   "pygments_lexer": "ipython3",
   "version": "3.11.9"
  }
 },
 "nbformat": 4,
 "nbformat_minor": 2
}
